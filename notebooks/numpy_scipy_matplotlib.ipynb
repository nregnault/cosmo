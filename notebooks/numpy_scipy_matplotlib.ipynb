{
 "cells": [
  {
   "cell_type": "markdown",
   "metadata": {},
   "source": [
    "# A short introduction to `numpy`, `scipy` and `matplotlib`"
   ]
  },
  {
   "cell_type": "markdown",
   "metadata": {},
   "source": [
    "## TOC\n",
    "* [python arrays (`numpy`)](#numpy)\n",
    "* [visualizing data and models (`matplotlib`)](#matplotlib)\n",
    "* [fitting a simple (linear) model on data](#fit)\n",
    "* [computing integrals](#integrals)\n",
    "* [integrating ordinary differential equations](#ode)"
   ]
  },
  {
   "cell_type": "markdown",
   "metadata": {},
   "source": [
    "<a id=\"numpy\"> </a>\n",
    "## Python arrays : the numpy module"
   ]
  },
  {
   "cell_type": "markdown",
   "metadata": {},
   "source": [
    "The `numpy` module defines N-dimensional arrays, along with a large number of functions to manipulate these arrays. It allows very fast operations on vectors and matrices (search, comparison, vector operations, linear algebra). \n",
    "\n",
    "Their interface of `numpy` arrays is very similar to that of lists, except that they store objects of the same type, in order to allow for efficient storage and fast retrieval of array values."
   ]
  },
  {
   "cell_type": "markdown",
   "metadata": {},
   "source": [
    "### Creating arrays"
   ]
  },
  {
   "cell_type": "code",
   "execution_count": 39,
   "metadata": {},
   "outputs": [
    {
     "name": "stdout",
     "output_type": "stream",
     "text": [
      "[1. 2. 3.]\n",
      "[0. 0. 0. 0. 0. 0. 0. 0. 0. 0. 0. 0. 0. 0. 0. 0. 0. 0. 0. 0.]\n",
      "[1. 1. 1. 1. 1. 1. 1. 1. 1. 1. 1. 1. 1. 1. 1. 1. 1. 1. 1. 1.]\n"
     ]
    }
   ],
   "source": [
    "import numpy as np\n",
    "\n",
    "a = np.array([1,2,3.])\n",
    "x = np.zeros(20)\n",
    "y = np.ones(20)\n",
    "\n",
    "print(a)\n",
    "print(x)\n",
    "print(y)"
   ]
  },
  {
   "cell_type": "code",
   "execution_count": 8,
   "metadata": {},
   "outputs": [
    {
     "name": "stdout",
     "output_type": "stream",
     "text": [
      "20\n",
      "[-10.  -9.  -8.  -7.  -6.  -5.  -4.  -3.  -2.  -1.   0.   1.   2.   3.\n",
      "   4.   5.   6.   7.   8.   9.]\n"
     ]
    }
   ],
   "source": [
    "x = np.arange(-10., 10., 1.)\n",
    "print(len(x))\n",
    "print(x)"
   ]
  },
  {
   "cell_type": "code",
   "execution_count": 14,
   "metadata": {},
   "outputs": [
    {
     "name": "stdout",
     "output_type": "stream",
     "text": [
      "20\n",
      "[-10.          -8.94736842  -7.89473684  -6.84210526  -5.78947368\n",
      "  -4.73684211  -3.68421053  -2.63157895  -1.57894737  -0.52631579\n",
      "   0.52631579   1.57894737   2.63157895   3.68421053   4.73684211\n",
      "   5.78947368   6.84210526   7.89473684   8.94736842  10.        ]\n"
     ]
    }
   ],
   "source": [
    "x = np.linspace(-10., 10., 20)\n",
    "print(len(x))\n",
    "print(x)"
   ]
  },
  {
   "cell_type": "markdown",
   "metadata": {},
   "source": [
    "### Operations on arrays"
   ]
  },
  {
   "cell_type": "code",
   "execution_count": 26,
   "metadata": {},
   "outputs": [
    {
     "name": "stdout",
     "output_type": "stream",
     "text": [
      "[1.00005003 1.0009033  1.00421503 1.00771334 1.01717416 1.02171122\n",
      " 1.0310421  1.04755622 1.05649811 1.0685127  1.09169636 1.11525785\n",
      " 1.14691638 1.16718671 1.18144309 1.22430338 1.26814466 1.30427999\n",
      " 1.36721398 1.42894861]\n"
     ]
    }
   ],
   "source": [
    "# We may add, subtract, multiply, divide etc... arrays like we would do with scalars\n",
    "\n",
    "x = np.linspace(0., 45., 20)\n",
    "x *= (np.pi / 180.)\n",
    "y = np.random.normal(scale=0.01, size=20)\n",
    "x = x + y\n",
    "\n",
    "# numpy (and many other modules) also defines functions that apply simultaneously to all elements of an array\n",
    "z = 1. / np.cos(x)\n",
    "print(z)"
   ]
  },
  {
   "cell_type": "markdown",
   "metadata": {},
   "source": [
    "### 2-D arrays"
   ]
  },
  {
   "cell_type": "code",
   "execution_count": 34,
   "metadata": {},
   "outputs": [
    {
     "name": "stdout",
     "output_type": "stream",
     "text": [
      "(2, 3)\n",
      "(100, 100)\n"
     ]
    }
   ],
   "source": [
    "M = np.array([[1, 2, 3], [4, 5, 6.]])\n",
    "N = np.random.random((100,100))\n",
    "\n",
    "print(M.shape)\n",
    "print (N.shape)"
   ]
  },
  {
   "cell_type": "markdown",
   "metadata": {},
   "source": [
    "### Accessing array elements - slicing arrays"
   ]
  },
  {
   "cell_type": "code",
   "execution_count": 60,
   "metadata": {},
   "outputs": [
    {
     "name": "stdout",
     "output_type": "stream",
     "text": [
      "('x=', 0.20202020202020202)\n",
      "('y=', array([0.2020202 , 0.4040404 , 0.60606061, 0.80808081, 1.01010101,\n",
      "       1.21212121, 1.41414141, 1.61616162, 1.81818182, 2.02020202,\n",
      "       2.22222222, 2.42424242, 2.62626263, 2.82828283, 3.03030303,\n",
      "       3.23232323, 3.43434343, 3.63636364, 3.83838384, 4.04040404,\n",
      "       4.24242424, 4.44444444, 4.64646465, 4.84848485, 5.05050505,\n",
      "       5.25252525, 5.45454545]))\n",
      "('z=', 0.21886659977899725)\n",
      "('t=', array([[0.9044724 , 0.91971164, 0.03851509, 0.31487907, 0.9019645 ,\n",
      "        0.0310156 , 0.68101716, 0.93527416, 0.18606275, 0.22732074,\n",
      "        0.11849781, 0.59360811, 0.23065952, 0.03821048, 0.83502566,\n",
      "        0.27193694, 0.33696253, 0.58225922]]))\n"
     ]
    }
   ],
   "source": [
    "A = np.linspace(0., 10., 100)\n",
    "N = np.random.random((100,100))\n",
    "\n",
    "x,y = A[2], A[2:55:2]\n",
    "z,t = N[55,22], N[2:3,2:55:3]\n",
    "\n",
    "print('x=', x)\n",
    "print('y=', y)\n",
    "print('z=', z)\n",
    "print('t=', t)"
   ]
  },
  {
   "cell_type": "markdown",
   "metadata": {},
   "source": [
    "### Linear algebra with arrays"
   ]
  },
  {
   "cell_type": "code",
   "execution_count": 129,
   "metadata": {},
   "outputs": [
    {
     "name": "stdout",
     "output_type": "stream",
     "text": [
      "X=array([-0.37832968, -0.09430852,  0.26083515, -0.13792211, -0.10759413,\n",
      "       -0.71488558,  0.53764682,  0.69003217,  0.86843615,  0.0619745 ])\n",
      "RES=array([-1.33226763e-15, -7.77156117e-16, -2.33146835e-15, -8.88178420e-16,\n",
      "        6.66133815e-16,  8.88178420e-16,  6.66133815e-16, -5.55111512e-15,\n",
      "       -2.99760217e-15, -6.66133815e-16])\n"
     ]
    }
   ],
   "source": [
    "M = np.random.random((100,100))\n",
    "B = np.random.random(100)\n",
    "\n",
    "# matrix - vector multiplication\n",
    "U = np.dot(M,B)\n",
    "\n",
    "# solving for M X = B\n",
    "from numpy import linalg\n",
    "X = linalg.solve(M, B)\n",
    "print(\"X=%r\\nRES=%r\" % (X[:10], (np.dot(M,X) - B)[:10]))"
   ]
  },
  {
   "cell_type": "code",
   "execution_count": 130,
   "metadata": {},
   "outputs": [
    {
     "name": "stdout",
     "output_type": "stream",
     "text": [
      "[2466.41783729   31.48168274   28.83053537   28.48556869   27.57436366\n",
      "   26.86576411   25.53942995   24.83648416   23.92509353   23.15746823]\n"
     ]
    }
   ],
   "source": [
    "# eigenvectors and eigenvalues\n",
    "\n",
    "# let's build a symmetric matrix\n",
    "A = np.dot(M.T, M)\n",
    "evals, evecs = linalg.eig(A)\n",
    "print evals[0:10]"
   ]
  },
  {
   "cell_type": "markdown",
   "metadata": {},
   "source": [
    "*** \n",
    "\n",
    "<a id=\"matplotlib\"></a>\n",
    "## Visualizing data and models\n",
    "\n",
    "Many libraries allow one to represent graphically data and functions. Here, we will present the de-facto standard, which is `matplotlib`"
   ]
  },
  {
   "cell_type": "code",
   "execution_count": 322,
   "metadata": {},
   "outputs": [
    {
     "data": {
      "image/png": "[encoded data removed]",
      "text/plain": [
       "<Figure size 1152x648 with 1 Axes>"
      ]
     },
     "metadata": {},
     "output_type": "display_data"
    }
   ],
   "source": [
    "import matplotlib\n",
    "import matplotlib.pyplot as pl\n",
    "pl.rcParams.update({'font.size': 16})\n",
    "\n",
    "pl.figure(figsize=(16,9))\n",
    "x = np.linspace(-10., 10., 120)\n",
    "y = np.sin(x)/x\n",
    "pl.plot(x, y, 'b-.')\n",
    "pl.xlabel('x', fontsize=14)\n",
    "pl.ylabel('y', fontsize=14)\n",
    "pl.grid()"
   ]
  },
  {
   "cell_type": "code",
   "execution_count": 323,
   "metadata": {},
   "outputs": [
    {
     "data": {
      "text/plain": [
       "Text(0,0.5,'y')"
      ]
     },
     "execution_count": 323,
     "metadata": {},
     "output_type": "execute_result"
    },
    {
     "data": {
      "image/png": "[encoded data removed]",
      "text/plain": [
       "<Figure size 432x288 with 1 Axes>"
      ]
     },
     "metadata": {},
     "output_type": "display_data"
    }
   ],
   "source": [
    "# let's create some data and present it corresponds to a series of measurements of some linear law\n",
    "x = np.random.uniform(-3., 10., size=100)\n",
    "y = 2. * x + 1.1\n",
    "\n",
    "# we should add noise\n",
    "yerr = np.random.uniform(0.2, 1., size=100)\n",
    "# yerr = 0.5 * np.ones(100)\n",
    "n = np.random.normal(scale=yerr, size=100)\n",
    "y += n\n",
    "\n",
    "pl.plot(x, y, 'ro')\n",
    "pl.xlabel('x')\n",
    "pl.ylabel('y')"
   ]
  },
  {
   "cell_type": "code",
   "execution_count": 325,
   "metadata": {},
   "outputs": [
    {
     "data": {
      "text/plain": [
       "Text(0,0.5,'y')"
      ]
     },
     "execution_count": 325,
     "metadata": {},
     "output_type": "execute_result"
    },
    {
     "data": {
      "image/png": "[encoded data removed]",
      "text/plain": [
       "<Figure size 648x648 with 1 Axes>"
      ]
     },
     "metadata": {},
     "output_type": "display_data"
    }
   ],
   "source": [
    "# It is better to plot the data with errorbars (and on a larger figure)\n",
    "pl.figure(figsize=(9,9))\n",
    "pl.errorbar(x, y, yerr=yerr, ls='', marker='o', color='k')\n",
    "pl.xlabel('x', fontsize=14)\n",
    "pl.ylabel('y', fontsize=14)"
   ]
  }
 ],
 "metadata": {
  "kernelspec": {
   "display_name": "Python 2",
   "language": "python",
   "name": "python2"
  },
  "language_info": {
   "codemirror_mode": {
    "name": "ipython",
    "version": 2
   },
   "file_extension": ".py",
   "mimetype": "text/x-python",
   "name": "python",
   "nbconvert_exporter": "python",
   "pygments_lexer": "ipython2",
   "version": "2.7.12"
  }
 },
 "nbformat": 4,
 "nbformat_minor": 2
}
